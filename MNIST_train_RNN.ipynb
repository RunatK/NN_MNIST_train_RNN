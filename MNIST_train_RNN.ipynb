{
  "nbformat": 4,
  "nbformat_minor": 0,
  "metadata": {
    "colab": {
      "name": "MNIST_train_RNN.ipynb",
      "provenance": [],
      "collapsed_sections": [],
      "authorship_tag": "ABX9TyNv7unnpwjwiOZfYxMNzo9/",
      "include_colab_link": true
    },
    "kernelspec": {
      "name": "python3",
      "display_name": "Python 3"
    },
    "language_info": {
      "name": "python"
    },
    "accelerator": "GPU"
  },
  "cells": [
    {
      "cell_type": "markdown",
      "metadata": {
        "id": "view-in-github",
        "colab_type": "text"
      },
      "source": [
        "<a href=\"https://colab.research.google.com/github/RunatK/NN_MNIST_train_RNN/blob/main/MNIST_train_RNN.ipynb\" target=\"_parent\"><img src=\"https://colab.research.google.com/assets/colab-badge.svg\" alt=\"Open In Colab\"/></a>"
      ]
    },
    {
      "cell_type": "code",
      "execution_count": 2,
      "metadata": {
        "id": "PA6dQhp64abD"
      },
      "outputs": [],
      "source": [
        "import torch\n",
        "import numpy as np\n",
        "import random\n",
        "import torchvision.datasets\n",
        "import matplotlib.pyplot as plt"
      ]
    },
    {
      "cell_type": "code",
      "source": [
        "random.seed(0)\n",
        "np.random.seed(0)\n",
        "torch.manual_seed(0)\n",
        "torch.cuda.manual_seed(0)\n",
        "torch.backends.cudnn.deterministic = True"
      ],
      "metadata": {
        "id": "NIUQxiLl4lpM"
      },
      "execution_count": 3,
      "outputs": []
    },
    {
      "cell_type": "code",
      "source": [
        "MNIST_train = torchvision.datasets.MNIST('./', download=True, train=True)\n",
        "MNIST_test = torchvision.datasets.MNIST('./', download=True, train=False)\n",
        "None"
      ],
      "metadata": {
        "id": "YIwIQ_FF4tIH"
      },
      "execution_count": 6,
      "outputs": []
    },
    {
      "cell_type": "code",
      "source": [
        "device = torch.device('cuda:0' if torch.cuda.is_available() else 'cpu')"
      ],
      "metadata": {
        "id": "Z1TnyF3L84H7"
      },
      "execution_count": 7,
      "outputs": []
    },
    {
      "cell_type": "code",
      "source": [
        "X_train = MNIST_train.data\n",
        "Y_train = MNIST_train.targets\n",
        "X_test = MNIST_test.data\n",
        "Y_test = MNIST_test.targets"
      ],
      "metadata": {
        "id": "Nu_s_6Rd4w_v"
      },
      "execution_count": 8,
      "outputs": []
    },
    {
      "cell_type": "code",
      "source": [
        "X_test = X_test.to(device)\n",
        "Y_test = Y_test.to(device)"
      ],
      "metadata": {
        "id": "joM8hH2H9dJ-"
      },
      "execution_count": 9,
      "outputs": []
    },
    {
      "cell_type": "code",
      "source": [
        "X_train = X_train.float()\n",
        "X_test = X_test.float()"
      ],
      "metadata": {
        "id": "bIHlBj4o56A8"
      },
      "execution_count": 10,
      "outputs": []
    },
    {
      "cell_type": "code",
      "source": [
        "plt.imshow(X_train[0, :, :])\n",
        "plt.show()"
      ],
      "metadata": {
        "colab": {
          "base_uri": "https://localhost:8080/",
          "height": 265
        },
        "id": "Vs-pr5625-hQ",
        "outputId": "8f36c306-5868-46af-ede4-84f4c21d430b"
      },
      "execution_count": 11,
      "outputs": [
        {
          "output_type": "display_data",
          "data": {
            "text/plain": [
              "<Figure size 432x288 with 1 Axes>"
            ],
            "image/png": "[encoded data removed]"
          },
          "metadata": {
            "needs_background": "light"
          }
        }
      ]
    },
    {
      "cell_type": "code",
      "source": [
        "X_train = X_train.reshape([-1, 28*28])\n",
        "X_test = X_test.reshape([-1, 28*28])"
      ],
      "metadata": {
        "id": "1PRaqJiz6ZdM"
      },
      "execution_count": 12,
      "outputs": []
    },
    {
      "cell_type": "code",
      "source": [
        "class MNISTNet(torch.nn.Module):#ВТФ is torch.nn.Module\n",
        "    def __init__(self, n_hidden_neurons):\n",
        "        super(MNISTNet, self).__init__()\n",
        "        self.fc1 = torch.nn.Linear(28*28, n_hidden_neurons)\n",
        "        self.ac1 = torch.nn.Sigmoid()\n",
        "        self.fc2 = torch.nn.Linear(n_hidden_neurons, 10)#Потому что угадываем число от 0 до 10\n",
        "\n",
        "    def forward(self, x):\n",
        "        x = self.fc1(x)\n",
        "        x = self.ac1(x)\n",
        "        x = self.fc2(x)\n",
        "        return x"
      ],
      "metadata": {
        "id": "udDPpd166c8Z"
      },
      "execution_count": 13,
      "outputs": []
    },
    {
      "cell_type": "code",
      "source": [
        "mnist_net = MNISTNet(100)\n",
        "mnist_net = mnist_net.to(device)\n",
        "loss = torch.nn.CrossEntropyLoss()\n",
        "optimizer = torch.optim.Adam(mnist_net.parameters(), lr = 1.0e-3)"
      ],
      "metadata": {
        "id": "1mt6nrQZ6frl"
      },
      "execution_count": 17,
      "outputs": []
    },
    {
      "cell_type": "code",
      "source": [
        "batch_size = 100\n",
        "test_accuracy_history = []\n",
        "test_loss_history = []\n",
        "\n",
        "for epoch in range(25):\n",
        "    order = np.random.permutation(len(X_train))\n",
        "    \n",
        "    for start_index in range(0, len(X_train), batch_size):\n",
        "        optimizer.zero_grad()\n",
        "        batch_indexes = order[start_index:start_index*batch_size]\n",
        "        X_batch = X_train[batch_indexes].to(device)\n",
        "        Y_batch = Y_train[batch_indexes].to(device)\n",
        "        preds = mnist_net.forward(X_batch)\n",
        "        loss_value = loss(preds, Y_batch)\n",
        "        loss_value.backward()\n",
        "        optimizer.step()\n",
        "\n",
        "    test_preds = mnist_net.forward(X_test)\n",
        "    test_loss_history.append(loss(test_preds, Y_test).cpu())\n",
        "    accuracy = (test_preds.argmax(dim=1) == Y_test).float().mean().cpu()\n",
        "    test_accuracy_history.append(accuracy)\n",
        "    print(accuracy)"
      ],
      "metadata": {
        "colab": {
          "base_uri": "https://localhost:8080/"
        },
        "id": "mQf8Ltd46mZh",
        "outputId": "788b77e9-2071-4651-e7b8-a3b347144c5e"
      },
      "execution_count": 19,
      "outputs": [
        {
          "output_type": "stream",
          "name": "stdout",
          "text": [
            "tensor(0.9381)\n",
            "tensor(0.9444)\n",
            "tensor(0.9505)\n",
            "tensor(0.9504)\n",
            "tensor(0.9528)\n",
            "tensor(0.9511)\n",
            "tensor(0.9525)\n",
            "tensor(0.9532)\n",
            "tensor(0.9538)\n",
            "tensor(0.9558)\n",
            "tensor(0.9556)\n",
            "tensor(0.9559)\n",
            "tensor(0.9569)\n",
            "tensor(0.9568)\n",
            "tensor(0.9567)\n",
            "tensor(0.9583)\n",
            "tensor(0.9578)\n",
            "tensor(0.9567)\n",
            "tensor(0.9579)\n",
            "tensor(0.9561)\n",
            "tensor(0.9585)\n",
            "tensor(0.9589)\n",
            "tensor(0.9598)\n",
            "tensor(0.9592)\n",
            "tensor(0.9591)\n"
          ]
        }
      ]
    },
    {
      "cell_type": "code",
      "source": [
        "plt.plot(test_accuracy_history)"
      ],
      "metadata": {
        "colab": {
          "base_uri": "https://localhost:8080/",
          "height": 282
        },
        "id": "zqwL3jR_DXej",
        "outputId": "a757669e-dd0c-49f6-ae2c-870235d0811a"
      },
      "execution_count": 20,
      "outputs": [
        {
          "output_type": "execute_result",
          "data": {
            "text/plain": [
              "[<matplotlib.lines.Line2D at 0x7f4f0f53fb10>]"
            ]
          },
          "metadata": {},
          "execution_count": 20
        },
        {
          "output_type": "display_data",
          "data": {
            "text/plain": [
              "<Figure size 432x288 with 1 Axes>"
            ],
            "image/png": "[encoded data removed]"
          },
          "metadata": {
            "needs_background": "light"
          }
        }
      ]
    },
    {
      "cell_type": "code",
      "source": [
        "test_loss_h = []\n",
        "for i in test_loss_history:\n",
        "  test_loss_h.append(i.detach())"
      ],
      "metadata": {
        "id": "uzm_I8wiDb6f"
      },
      "execution_count": 21,
      "outputs": []
    },
    {
      "cell_type": "code",
      "source": [
        "plt.plot(test_loss_h)"
      ],
      "metadata": {
        "colab": {
          "base_uri": "https://localhost:8080/",
          "height": 282
        },
        "id": "amAzRWVoDjZW",
        "outputId": "ea6251ae-9f5a-408c-9e31-3bda9e0f7430"
      },
      "execution_count": 22,
      "outputs": [
        {
          "output_type": "execute_result",
          "data": {
            "text/plain": [
              "[<matplotlib.lines.Line2D at 0x7f4f2007ef10>]"
            ]
          },
          "metadata": {},
          "execution_count": 22
        },
        {
          "output_type": "display_data",
          "data": {
            "text/plain": [
              "<Figure size 432x288 with 1 Axes>"
            ],
            "image/png": "[encoded data removed]"
          },
          "metadata": {
            "needs_background": "light"
          }
        }
      ]
    }
  ]
}